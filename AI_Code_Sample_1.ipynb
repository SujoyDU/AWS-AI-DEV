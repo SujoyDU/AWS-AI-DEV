{
 "cells": [
  {
   "cell_type": "code",
   "execution_count": 1,
   "id": "1cdd35db-bfa6-42ca-9c03-588f36fcf18b",
   "metadata": {},
   "outputs": [
    {
     "name": "stdout",
     "output_type": "stream",
     "text": [
      "\n",
      "\n",
      "A 'hello world' program is a basic computer program that outputs \"Hello, World!\" to the console. It is often used as an introductory exercise to teach programming concepts and demonstrate the basic structure of a program.\n"
     ]
    }
   ],
   "source": [
    "# Use the Conversation API to send a text message to Amazon Titan Text G1 - Express.\n",
    "import boto3\n",
    "from botocore.exceptions import ClientError\n",
    "# Create an Amazon Bedrock Runtime client.\n",
    "brt = boto3.client(\"bedrock-runtime\")\n",
    "# Set the model ID, e.g., Amazon Titan Text G1 - Express.\n",
    "model_id = \"amazon.titan-text-express-v1\"\n",
    "# Start a conversation with the user message.\n",
    "user_message = \"Describe the purpose of a 'hello world' program in one line.\"\n",
    "conversation = [\n",
    "    {\n",
    "     \"role\": \"user\",\n",
    "     \"content\": [{\"text\": user_message}],\n",
    "    }\n",
    "]\n",
    "try:\n",
    "    # Send the message to the model, using a basic inference configuration.\n",
    "    response = brt.converse(\n",
    "        modelId=model_id,\n",
    "        messages=conversation,\n",
    "        inferenceConfig={\"maxTokens\": 512, \"temperature\": 0.5, \"topP\": 0.9},\n",
    "    )\n",
    "    # Extract and print the response text.\n",
    "    response_text = response[\"output\"][\"message\"][\"content\"][0][\"text\"]\n",
    "    print(response_text)\n",
    "except (ClientError, Exception) as e:\n",
    "    print(f\"ERROR: Can't invoke '{model_id}'. Reason: {e}\")\n",
    "    exit(1)"
   ]
  },
  {
   "cell_type": "code",
   "execution_count": 2,
   "id": "edab1af0-d883-4da0-84dc-0c368394043d",
   "metadata": {},
   "outputs": [],
   "source": [
    "import json\n",
    "import os\n",
    "import sys\n",
    "\n",
    "import boto3\n",
    "\n",
    "boto3_bedrock = boto3.client('bedrock')"
   ]
  },
  {
   "cell_type": "code",
   "execution_count": 6,
   "id": "6d5d08f9-732b-4d42-84f6-9fc9cc1d8a66",
   "metadata": {},
   "outputs": [
    {
     "data": {
      "text/plain": [
       "['amazon.titan-tg1-large',\n",
       " 'amazon.titan-image-generator-v1:0',\n",
       " 'amazon.titan-image-generator-v1',\n",
       " 'amazon.titan-image-generator-v2:0',\n",
       " 'amazon.titan-text-premier-v1:0',\n",
       " 'amazon.nova-pro-v1:0:300k',\n",
       " 'amazon.nova-pro-v1:0',\n",
       " 'amazon.nova-lite-v1:0:300k',\n",
       " 'amazon.nova-lite-v1:0',\n",
       " 'amazon.nova-canvas-v1:0',\n",
       " 'amazon.nova-reel-v1:0',\n",
       " 'amazon.nova-micro-v1:0:128k',\n",
       " 'amazon.nova-micro-v1:0',\n",
       " 'amazon.titan-embed-g1-text-02',\n",
       " 'amazon.titan-text-lite-v1:0:4k',\n",
       " 'amazon.titan-text-lite-v1',\n",
       " 'amazon.titan-text-express-v1:0:8k',\n",
       " 'amazon.titan-text-express-v1',\n",
       " 'amazon.titan-embed-text-v1:2:8k',\n",
       " 'amazon.titan-embed-text-v1',\n",
       " 'amazon.titan-embed-text-v2:0:8k',\n",
       " 'amazon.titan-embed-text-v2:0',\n",
       " 'amazon.titan-embed-image-v1:0',\n",
       " 'amazon.titan-embed-image-v1',\n",
       " 'stability.stable-diffusion-xl-v1:0',\n",
       " 'stability.stable-diffusion-xl-v1',\n",
       " 'ai21.jamba-instruct-v1:0',\n",
       " 'ai21.jamba-1-5-large-v1:0',\n",
       " 'ai21.jamba-1-5-mini-v1:0',\n",
       " 'anthropic.claude-instant-v1:2:100k']"
      ]
     },
     "execution_count": 6,
     "metadata": {},
     "output_type": "execute_result"
    }
   ],
   "source": [
    "[models['modelId'] for models in boto3_bedrock.list_foundation_models()['modelSummaries']][:30]"
   ]
  },
  {
   "cell_type": "code",
   "execution_count": 6,
   "id": "d3a244b5-3cd7-4a05-88bd-bb341831c5b3",
   "metadata": {},
   "outputs": [],
   "source": [
    "bedrock_runtime = boto3.client('bedrock-runtime')"
   ]
  },
  {
   "cell_type": "code",
   "execution_count": null,
   "id": "9c8b4d81-6401-49b5-83fe-f0aa6bdd8e8d",
   "metadata": {},
   "outputs": [],
   "source": [
    "# If you'd like to try your own prompt, edit this parameter!\n",
    "prompt_data = \"\"\"Command: Write me a blog about making strong business decisions as a leader.\n",
    "\n",
    "Blog:\n",
    "\"\"\""
   ]
  },
  {
   "cell_type": "code",
   "execution_count": null,
   "id": "8f9cc9b6-b8f8-43b6-91a9-1233da34093c",
   "metadata": {},
   "outputs": [],
   "source": [
    "try:\n",
    "\n",
    "    '''\n",
    "    body = json.dumps(\n",
    "        {\n",
    "            \"messages\": [{\"role\": \"user\", \"content\": [{\"text\": prompt_data}]}],\n",
    "            \"inferenceConfig\": {\n",
    "                \"max_new_tokens\": 500,\n",
    "                \"top_p\": 0.9,\n",
    "                \"top_k\": 20,\n",
    "                \"temperature\": 0.7\n",
    "            }\n",
    "        }\n",
    "    )\n",
    "    '''\n",
    "    body = json.dumps(\n",
    "        {\n",
    "            \"inputText\": prompt_data,\n",
    "            \"textGenerationConfig\": {\"maxTokenCount\": 1024, \"topP\": 0.95, \"temperature\": 0.1},\n",
    "        }\n",
    "    )\n",
    "    modelId = \"amazon.titan-text-express-v1\" # amazon.nova-lite-v1:0\n",
    "    accept = \"application/json\"\n",
    "    contentType = \"application/json\"\n",
    "\n",
    "    response = bedrock_runtime.invoke_model(\n",
    "        body=body, modelId=modelId, accept=accept, contentType=contentType\n",
    "    )\n",
    "    response_body = json.loads(response.get(\"body\").read())\n",
    "\n",
    "    outputText = response_body.get(\"results\")[0].get(\"outputText\")\n",
    "    print(outputText)\n",
    "    #response_body = json.loads(response.get(\"body\").read())\n",
    "\n",
    "    #print(response_body[\"output\"][\"message\"][\"content\"][0]['text'])\n",
    "\n",
    "except botocore.exceptions.ClientError as error:\n",
    "\n",
    "    if error.response['Error']['Code'] == 'AccessDeniedException':\n",
    "           print(f\"\\x1b[41m{error.response['Error']['Message']}\\\n",
    "                \\nTo troubeshoot this issue please refer to the following resources.\\\n",
    "                 \\nhttps://docs.aws.amazon.com/IAM/latest/UserGuide/troubleshoot_access-denied.html\\\n",
    "                 \\nhttps://docs.aws.amazon.com/bedrock/latest/userguide/security-iam.html\\x1b[0m\\n\")\n",
    "\n",
    "    else:\n",
    "        raise error"
   ]
  }
 ],
 "metadata": {
  "kernelspec": {
   "display_name": "Python 3 (ipykernel)",
   "language": "python",
   "name": "python3"
  },
  "language_info": {
   "codemirror_mode": {
    "name": "ipython",
    "version": 3
   },
   "file_extension": ".py",
   "mimetype": "text/x-python",
   "name": "python",
   "nbconvert_exporter": "python",
   "pygments_lexer": "ipython3",
   "version": "3.13.1"
  }
 },
 "nbformat": 4,
 "nbformat_minor": 5
}
